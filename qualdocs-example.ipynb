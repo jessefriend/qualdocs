{
 "cells": [
  {
   "cell_type": "markdown",
   "metadata": {},
   "source": [
    "# Using qualdocs to process Google Docs comments\n"
   ]
  },
  {
   "cell_type": "markdown",
   "metadata": {},
   "source": [
    "This assumes you have `client_secret.json` in your working directory per the instructions in README.md"
   ]
  },
  {
   "cell_type": "markdown",
   "metadata": {},
   "source": [
    "## Imports"
   ]
  },
  {
   "cell_type": "code",
   "execution_count": 2,
   "metadata": {
    "collapsed": true
   },
   "outputs": [],
   "source": [
    "import pandas as pd\n",
    "pd.set_option('display.max_colwidth', -1)\n",
    "pd.set_option('display.max_rows', 500)"
   ]
  },
  {
   "cell_type": "code",
   "execution_count": 3,
   "metadata": {
    "collapsed": true
   },
   "outputs": [],
   "source": [
    "import qualdocs"
   ]
  },
  {
   "cell_type": "markdown",
   "metadata": {},
   "source": [
    "## Authentication\n",
    "\n",
    "Authenticate with get_credentials(), which opens up a window in your browser to authenticate the first time you run it on a user account on this computer. It stores credentials to a .json file in `~/.credentials/`. Close the window and come back when authentication is complete."
   ]
  },
  {
   "cell_type": "code",
   "execution_count": 4,
   "metadata": {},
   "outputs": [
    {
     "name": "stderr",
     "output_type": "stream",
     "text": [
      "/home/staeiou/anaconda3/lib/python3.6/site-packages/oauth2client/_helpers.py:255: UserWarning: Cannot access /home/staeiou/.credentials/drive-python-quickstart.json: No such file or directory\n",
      "  warnings.warn(_MISSING_FILE_MESSAGE.format(filename))\n"
     ]
    },
    {
     "name": "stdout",
     "output_type": "stream",
     "text": [
      "\n",
      "Your browser has been opened to visit:\n",
      "\n",
      "    https://accounts.google.com/o/oauth2/auth?client_id=LONGURL_TRUNCATED_FOR_PRIVACY\n",
      "\n",
      "If your browser is on a different machine then exit and re-run this\n",
      "application with the command-line parameter\n",
      "\n",
      "  --noauth_local_webserver\n",
      "\n",
      "Authentication successful.\n",
      "Storing credentials to /home/staeiou/.credentials/drive-python-quickstart.json\n"
     ]
    }
   ],
   "source": [
    "credentials = qualdocs.get_credentials()"
   ]
  },
  {
   "cell_type": "code",
   "execution_count": 5,
   "metadata": {
    "collapsed": true
   },
   "outputs": [],
   "source": [
    "service = qualdocs.get_service()"
   ]
  },
  {
   "cell_type": "markdown",
   "metadata": {},
   "source": [
    "## Search for files to process"
   ]
  },
  {
   "cell_type": "code",
   "execution_count": 6,
   "metadata": {},
   "outputs": [
    {
     "data": {
      "text/plain": [
       "{'qualdocs test lorem 2': '1guJL7obwENn5GYOZarifxk3xPvWrk6NJ7WEfXQHTkBk',\n",
       " 'qualdocs-test-lorem': '1EtYEx9U9KRfAOAh9LaSsmIQyDqiJ392qZJom1Jmv5MI'}"
      ]
     },
     "execution_count": 6,
     "metadata": {},
     "output_type": "execute_result"
    }
   ],
   "source": [
    "ids = qualdocs.get_file_ids(service, search=\"lorem\")\n",
    "ids"
   ]
  },
  {
   "cell_type": "markdown",
   "metadata": {},
   "source": [
    "## Query and parse into pandas dataframe"
   ]
  },
  {
   "cell_type": "code",
   "execution_count": 7,
   "metadata": {
    "collapsed": true
   },
   "outputs": [],
   "source": [
    "json_dict = qualdocs.get_json_dict(service, ids)"
   ]
  },
  {
   "cell_type": "code",
   "execution_count": 8,
   "metadata": {},
   "outputs": [
    {
     "data": {
      "text/html": [
       "<div>\n",
       "<table border=\"1\" class=\"dataframe\">\n",
       "  <thead>\n",
       "    <tr style=\"text-align: right;\">\n",
       "      <th></th>\n",
       "      <th></th>\n",
       "      <th></th>\n",
       "      <th></th>\n",
       "      <th>text</th>\n",
       "      <th>comment_id</th>\n",
       "      <th>coder</th>\n",
       "    </tr>\n",
       "    <tr>\n",
       "      <th>code</th>\n",
       "      <th>subcode</th>\n",
       "      <th>sub_subcode</th>\n",
       "      <th>name</th>\n",
       "      <th></th>\n",
       "      <th></th>\n",
       "      <th></th>\n",
       "    </tr>\n",
       "  </thead>\n",
       "  <tbody>\n",
       "    <tr>\n",
       "      <th rowspan=\"9\" valign=\"top\">topcode1</th>\n",
       "      <th></th>\n",
       "      <th></th>\n",
       "      <th>qualdocs test lorem 2</th>\n",
       "      <td>Sed convallis purus lorem, ut euismod lorem scelerisque at. Vestibulum est diam, convallis ac dictum id, sodales nec nisl. Maecenas malesuada neque vel enim vestibulum laoreet.</td>\n",
       "      <td>AAAAA-veBHo</td>\n",
       "      <td>R.Stuart Geiger</td>\n",
       "    </tr>\n",
       "    <tr>\n",
       "      <th rowspan=\"2\" valign=\"top\">subcode1</th>\n",
       "      <th rowspan=\"2\" valign=\"top\"></th>\n",
       "      <th>qualdocs-test-lorem</th>\n",
       "      <td>Nunc lacinia luctus mauris, vel malesuada lacus fermentum ullamcorper. Proin lacinia odio non tincidunt finibus.</td>\n",
       "      <td>AAAAA-y8kfE</td>\n",
       "      <td>R.Stuart Geiger</td>\n",
       "    </tr>\n",
       "    <tr>\n",
       "      <th>qualdocs-test-lorem</th>\n",
       "      <td>Vestibulum ac felis eget nisi iaculis condimentum. Morbi eros ligula, posuere id enim eu, dictum scelerisque magna.</td>\n",
       "      <td>AAAAA-y8ke8</td>\n",
       "      <td>R.Stuart Geiger</td>\n",
       "    </tr>\n",
       "    <tr>\n",
       "      <th rowspan=\"3\" valign=\"top\">subcode2</th>\n",
       "      <th rowspan=\"3\" valign=\"top\"></th>\n",
       "      <th>qualdocs-test-lorem</th>\n",
       "      <td>Lorem ipsum dolor sit amet, consectetur adipiscing elit. In enim sapien, fringilla vel sodales sed, tincidunt ut odio. Pellentesque habitant morbi tristique senectus et netus et malesuada fames ac turpis egestas.</td>\n",
       "      <td>AAAAA-rM2bI</td>\n",
       "      <td>R.Stuart Geiger</td>\n",
       "    </tr>\n",
       "    <tr>\n",
       "      <th>qualdocs-test-lorem</th>\n",
       "      <td>Duis a erat sodales, laoreet est vel, consequat libero. Donec nisl erat, venenatis sit amet lacinia sit amet, finibus in nulla.</td>\n",
       "      <td>AAAAA-y8kfI</td>\n",
       "      <td>R.Stuart Geiger</td>\n",
       "    </tr>\n",
       "    <tr>\n",
       "      <th>qualdocs-test-lorem</th>\n",
       "      <td>Nunc lacinia luctus mauris, vel malesuada lacus fermentum ullamcorper. Proin lacinia odio non tincidunt finibus.</td>\n",
       "      <td>AAAAA-y8kfE</td>\n",
       "      <td>R.Stuart Geiger</td>\n",
       "    </tr>\n",
       "    <tr>\n",
       "      <th>subcode3</th>\n",
       "      <th></th>\n",
       "      <th>qualdocs test lorem 2</th>\n",
       "      <td>Lorem ipsum dolor sit amet</td>\n",
       "      <td>AAAAA-veBH0</td>\n",
       "      <td>R.Stuart Geiger</td>\n",
       "    </tr>\n",
       "    <tr>\n",
       "      <th rowspan=\"2\" valign=\"top\">subcode4</th>\n",
       "      <th rowspan=\"2\" valign=\"top\"></th>\n",
       "      <th>qualdocs test lorem 2</th>\n",
       "      <td>Lorem ipsum dolor sit amet</td>\n",
       "      <td>AAAAA-veBH0</td>\n",
       "      <td>R.Stuart Geiger</td>\n",
       "    </tr>\n",
       "    <tr>\n",
       "      <th>qualdocs-test-lorem</th>\n",
       "      <td>Etiam ultrices sed risus id fermentum. Etiam placerat, mi id ultricies accumsan, arcu erat ornare tortor, sed gravida nisi eros eget ligula. Quisque sed libero pellentesque lorem varius egestas. Nam facilisis lacinia consequat. Aliquam porttitor ipsum non eros blandit commodo. Donec at elit ac sapien pellentesque accumsan. Nam hendrerit eget leo eget gravida. Fusce et dui luctus, malesuada elit sed, interdum nulla. Praesent ac venenatis mi. Maecenas suscipit metus in ipsum molestie, et elementum tortor mattis. Aenean at mattis lorem. Aenean at lacinia quam.</td>\n",
       "      <td>AAAAA-y8kfU</td>\n",
       "      <td>R.Stuart Geiger</td>\n",
       "    </tr>\n",
       "    <tr>\n",
       "      <th rowspan=\"9\" valign=\"top\">topcode2</th>\n",
       "      <th></th>\n",
       "      <th></th>\n",
       "      <th>qualdocs-test-lorem</th>\n",
       "      <td>Pellentesque habitant morbi tristique senectus et netus et malesuada fames ac turpis egestas.</td>\n",
       "      <td>AAAAA-y8kfA</td>\n",
       "      <td>R.Stuart Geiger</td>\n",
       "    </tr>\n",
       "    <tr>\n",
       "      <th rowspan=\"2\" valign=\"top\">subcode1</th>\n",
       "      <th rowspan=\"2\" valign=\"top\"></th>\n",
       "      <th>qualdocs test lorem 2</th>\n",
       "      <td>Praesent id dui eu nulla volutpat laoreet. Nunc quis leo rhoncus, maximus sapien nec, rhoncus purus.</td>\n",
       "      <td>AAAAA-veBH8</td>\n",
       "      <td>R.Stuart Geiger</td>\n",
       "    </tr>\n",
       "    <tr>\n",
       "      <th>qualdocs test lorem 2</th>\n",
       "      <td>Nunc lacinia luctus mauris, vel malesuada lacus fermentum ullamcorper. Proin lacinia odio non tincidunt finibus.</td>\n",
       "      <td>AAAAA-veBHs</td>\n",
       "      <td>R.Stuart Geiger</td>\n",
       "    </tr>\n",
       "    <tr>\n",
       "      <th>subcode2</th>\n",
       "      <th>subsubcode1</th>\n",
       "      <th>qualdocs-test-lorem</th>\n",
       "      <td>Praesent id dui eu nulla volutpat laoreet. Nunc quis leo rhoncus, maximus sapien nec, rhoncus purus. Mauris id commodo dolor. Morbi cursus velit massa, in lobortis urna laoreet non.</td>\n",
       "      <td>AAAAA-rM2bE</td>\n",
       "      <td>R.Stuart Geiger</td>\n",
       "    </tr>\n",
       "    <tr>\n",
       "      <th rowspan=\"4\" valign=\"top\">subcode3</th>\n",
       "      <th></th>\n",
       "      <th>qualdocs test lorem 2</th>\n",
       "      <td>Nam dapibus magna eget tortor porta, sed ultrices enim bibendum. Aliquam auctor dictum eleifend.</td>\n",
       "      <td>AAAAA-veBHw</td>\n",
       "      <td>R.Stuart Geiger</td>\n",
       "    </tr>\n",
       "    <tr>\n",
       "      <th>subsubcode1</th>\n",
       "      <th>qualdocs-test-lorem</th>\n",
       "      <td>Nulla arcu lectus, ornare interdum facilisis at, dignissim vitae nulla. Sed gravida lorem quam, id dapibus arcu ornare tristique.</td>\n",
       "      <td>AAAAA-y8kfM</td>\n",
       "      <td>R.Stuart Geiger</td>\n",
       "    </tr>\n",
       "    <tr>\n",
       "      <th>subsubcode3</th>\n",
       "      <th>qualdocs-test-lorem</th>\n",
       "      <td>Nam dignissim urna nec elit sodales, non convallis magna pharetra. Praesent ac consequat lacus. Sed sit amet condimentum nisl.</td>\n",
       "      <td>AAAAA-y8kfQ</td>\n",
       "      <td>R.Stuart Geiger</td>\n",
       "    </tr>\n",
       "    <tr>\n",
       "      <th>subsubcode4</th>\n",
       "      <th>qualdocs-test-lorem</th>\n",
       "      <td>Nam dignissim urna nec elit sodales, non convallis magna pharetra. Praesent ac consequat lacus. Sed sit amet condimentum nisl.</td>\n",
       "      <td>AAAAA-y8kfQ</td>\n",
       "      <td>R.Stuart Geiger</td>\n",
       "    </tr>\n",
       "    <tr>\n",
       "      <th>subcode4</th>\n",
       "      <th></th>\n",
       "      <th>qualdocs test lorem 2</th>\n",
       "      <td>Nam dapibus magna eget tortor porta, sed ultrices enim bibendum. Aliquam auctor dictum eleifend.</td>\n",
       "      <td>AAAAA-veBHw</td>\n",
       "      <td>R.Stuart Geiger</td>\n",
       "    </tr>\n",
       "    <tr>\n",
       "      <th>topcode3</th>\n",
       "      <th></th>\n",
       "      <th></th>\n",
       "      <th>qualdocs test lorem 2</th>\n",
       "      <td>Etiam ultrices sed risus id fermentum. Etiam placerat, mi id ultricies accumsan, arcu erat ornare tortor, sed gravida nisi eros eget ligula. Quisque sed libero pellentesque lorem varius egestas. Nam facilisis lacinia consequat.</td>\n",
       "      <td>AAAAA-veBH4</td>\n",
       "      <td>R.Stuart Geiger</td>\n",
       "    </tr>\n",
       "  </tbody>\n",
       "</table>\n",
       "</div>"
      ],
      "text/plain": [
       "                                                                                                                                                                                                                                                                                                                                                                                                                                                                                                                                                                                                                                      text  \\\n",
       "code     subcode   sub_subcode  name                                                                                                                                                                                                                                                                                                                                                                                                                                                                                                                                                                                                         \n",
       "topcode1                        qualdocs test lorem 2  Sed convallis purus lorem, ut euismod lorem scelerisque at. Vestibulum est diam, convallis ac dictum id, sodales nec nisl. Maecenas malesuada neque vel enim vestibulum laoreet.                                                                                                                                                                                                                                                                                                                                                                                                      \n",
       "          subcode1              qualdocs-test-lorem    Nunc lacinia luctus mauris, vel malesuada lacus fermentum ullamcorper. Proin lacinia odio non tincidunt finibus.                                                                                                                                                                                                                                                                                                                                                                                                                                                                      \n",
       "                                qualdocs-test-lorem    Vestibulum ac felis eget nisi iaculis condimentum. Morbi eros ligula, posuere id enim eu, dictum scelerisque magna.                                                                                                                                                                                                                                                                                                                                                                                                                                                                   \n",
       "          subcode2              qualdocs-test-lorem    Lorem ipsum dolor sit amet, consectetur adipiscing elit. In enim sapien, fringilla vel sodales sed, tincidunt ut odio. Pellentesque habitant morbi tristique senectus et netus et malesuada fames ac turpis egestas.                                                                                                                                                                                                                                                                                                                                                                  \n",
       "                                qualdocs-test-lorem    Duis a erat sodales, laoreet est vel, consequat libero. Donec nisl erat, venenatis sit amet lacinia sit amet, finibus in nulla.                                                                                                                                                                                                                                                                                                                                                                                                                                                       \n",
       "                                qualdocs-test-lorem    Nunc lacinia luctus mauris, vel malesuada lacus fermentum ullamcorper. Proin lacinia odio non tincidunt finibus.                                                                                                                                                                                                                                                                                                                                                                                                                                                                      \n",
       "          subcode3              qualdocs test lorem 2  Lorem ipsum dolor sit amet                                                                                                                                                                                                                                                                                                                                                                                                                                                                                                                                                            \n",
       "          subcode4              qualdocs test lorem 2  Lorem ipsum dolor sit amet                                                                                                                                                                                                                                                                                                                                                                                                                                                                                                                                                            \n",
       "                                qualdocs-test-lorem    Etiam ultrices sed risus id fermentum. Etiam placerat, mi id ultricies accumsan, arcu erat ornare tortor, sed gravida nisi eros eget ligula. Quisque sed libero pellentesque lorem varius egestas. Nam facilisis lacinia consequat. Aliquam porttitor ipsum non eros blandit commodo. Donec at elit ac sapien pellentesque accumsan. Nam hendrerit eget leo eget gravida. Fusce et dui luctus, malesuada elit sed, interdum nulla. Praesent ac venenatis mi. Maecenas suscipit metus in ipsum molestie, et elementum tortor mattis. Aenean at mattis lorem. Aenean at lacinia quam.   \n",
       "topcode2                        qualdocs-test-lorem    Pellentesque habitant morbi tristique senectus et netus et malesuada fames ac turpis egestas.                                                                                                                                                                                                                                                                                                                                                                                                                                                                                         \n",
       "          subcode1              qualdocs test lorem 2  Praesent id dui eu nulla volutpat laoreet. Nunc quis leo rhoncus, maximus sapien nec, rhoncus purus.                                                                                                                                                                                                                                                                                                                                                                                                                                                                                  \n",
       "                                qualdocs test lorem 2  Nunc lacinia luctus mauris, vel malesuada lacus fermentum ullamcorper. Proin lacinia odio non tincidunt finibus.                                                                                                                                                                                                                                                                                                                                                                                                                                                                      \n",
       "          subcode2  subsubcode1 qualdocs-test-lorem    Praesent id dui eu nulla volutpat laoreet. Nunc quis leo rhoncus, maximus sapien nec, rhoncus purus. Mauris id commodo dolor. Morbi cursus velit massa, in lobortis urna laoreet non.                                                                                                                                                                                                                                                                                                                                                                                                 \n",
       "          subcode3              qualdocs test lorem 2  Nam dapibus magna eget tortor porta, sed ultrices enim bibendum. Aliquam auctor dictum eleifend.                                                                                                                                                                                                                                                                                                                                                                                                                                                                                      \n",
       "                    subsubcode1 qualdocs-test-lorem    Nulla arcu lectus, ornare interdum facilisis at, dignissim vitae nulla. Sed gravida lorem quam, id dapibus arcu ornare tristique.                                                                                                                                                                                                                                                                                                                                                                                                                                                     \n",
       "                    subsubcode3 qualdocs-test-lorem    Nam dignissim urna nec elit sodales, non convallis magna pharetra. Praesent ac consequat lacus. Sed sit amet condimentum nisl.                                                                                                                                                                                                                                                                                                                                                                                                                                                        \n",
       "                    subsubcode4 qualdocs-test-lorem    Nam dignissim urna nec elit sodales, non convallis magna pharetra. Praesent ac consequat lacus. Sed sit amet condimentum nisl.                                                                                                                                                                                                                                                                                                                                                                                                                                                        \n",
       "          subcode4              qualdocs test lorem 2  Nam dapibus magna eget tortor porta, sed ultrices enim bibendum. Aliquam auctor dictum eleifend.                                                                                                                                                                                                                                                                                                                                                                                                                                                                                      \n",
       "topcode3                        qualdocs test lorem 2  Etiam ultrices sed risus id fermentum. Etiam placerat, mi id ultricies accumsan, arcu erat ornare tortor, sed gravida nisi eros eget ligula. Quisque sed libero pellentesque lorem varius egestas. Nam facilisis lacinia consequat.                                                                                                                                                                                                                                                                                                                                                   \n",
       "\n",
       "                                                        comment_id  \\\n",
       "code     subcode   sub_subcode  name                                 \n",
       "topcode1                        qualdocs test lorem 2  AAAAA-veBHo   \n",
       "          subcode1              qualdocs-test-lorem    AAAAA-y8kfE   \n",
       "                                qualdocs-test-lorem    AAAAA-y8ke8   \n",
       "          subcode2              qualdocs-test-lorem    AAAAA-rM2bI   \n",
       "                                qualdocs-test-lorem    AAAAA-y8kfI   \n",
       "                                qualdocs-test-lorem    AAAAA-y8kfE   \n",
       "          subcode3              qualdocs test lorem 2  AAAAA-veBH0   \n",
       "          subcode4              qualdocs test lorem 2  AAAAA-veBH0   \n",
       "                                qualdocs-test-lorem    AAAAA-y8kfU   \n",
       "topcode2                        qualdocs-test-lorem    AAAAA-y8kfA   \n",
       "          subcode1              qualdocs test lorem 2  AAAAA-veBH8   \n",
       "                                qualdocs test lorem 2  AAAAA-veBHs   \n",
       "          subcode2  subsubcode1 qualdocs-test-lorem    AAAAA-rM2bE   \n",
       "          subcode3              qualdocs test lorem 2  AAAAA-veBHw   \n",
       "                    subsubcode1 qualdocs-test-lorem    AAAAA-y8kfM   \n",
       "                    subsubcode3 qualdocs-test-lorem    AAAAA-y8kfQ   \n",
       "                    subsubcode4 qualdocs-test-lorem    AAAAA-y8kfQ   \n",
       "          subcode4              qualdocs test lorem 2  AAAAA-veBHw   \n",
       "topcode3                        qualdocs test lorem 2  AAAAA-veBH4   \n",
       "\n",
       "                                                                 coder  \n",
       "code     subcode   sub_subcode  name                                    \n",
       "topcode1                        qualdocs test lorem 2  R.Stuart Geiger  \n",
       "          subcode1              qualdocs-test-lorem    R.Stuart Geiger  \n",
       "                                qualdocs-test-lorem    R.Stuart Geiger  \n",
       "          subcode2              qualdocs-test-lorem    R.Stuart Geiger  \n",
       "                                qualdocs-test-lorem    R.Stuart Geiger  \n",
       "                                qualdocs-test-lorem    R.Stuart Geiger  \n",
       "          subcode3              qualdocs test lorem 2  R.Stuart Geiger  \n",
       "          subcode4              qualdocs test lorem 2  R.Stuart Geiger  \n",
       "                                qualdocs-test-lorem    R.Stuart Geiger  \n",
       "topcode2                        qualdocs-test-lorem    R.Stuart Geiger  \n",
       "          subcode1              qualdocs test lorem 2  R.Stuart Geiger  \n",
       "                                qualdocs test lorem 2  R.Stuart Geiger  \n",
       "          subcode2  subsubcode1 qualdocs-test-lorem    R.Stuart Geiger  \n",
       "          subcode3              qualdocs test lorem 2  R.Stuart Geiger  \n",
       "                    subsubcode1 qualdocs-test-lorem    R.Stuart Geiger  \n",
       "                    subsubcode3 qualdocs-test-lorem    R.Stuart Geiger  \n",
       "                    subsubcode4 qualdocs-test-lorem    R.Stuart Geiger  \n",
       "          subcode4              qualdocs test lorem 2  R.Stuart Geiger  \n",
       "topcode3                        qualdocs test lorem 2  R.Stuart Geiger  "
      ]
     },
     "execution_count": 8,
     "metadata": {},
     "output_type": "execute_result"
    }
   ],
   "source": [
    "df = qualdocs.json_to_df(json_dict)\n",
    "df"
   ]
  },
  {
   "cell_type": "markdown",
   "metadata": {},
   "source": [
    "## Processing\n",
    "\n",
    "Get list of codes"
   ]
  },
  {
   "cell_type": "code",
   "execution_count": 9,
   "metadata": {},
   "outputs": [
    {
     "data": {
      "text/plain": [
       "['topcode1',\n",
       " 'topcode1: subcode1',\n",
       " 'topcode1: subcode1',\n",
       " 'topcode1: subcode2',\n",
       " 'topcode1: subcode2',\n",
       " 'topcode1: subcode2',\n",
       " 'topcode1: subcode3',\n",
       " 'topcode1: subcode4',\n",
       " 'topcode1: subcode4',\n",
       " 'topcode2',\n",
       " 'topcode2: subcode1',\n",
       " 'topcode2: subcode1',\n",
       " 'topcode2: subcode2: subsubcode1',\n",
       " 'topcode2: subcode3',\n",
       " 'topcode2: subcode3: subsubcode1',\n",
       " 'topcode2: subcode3: subsubcode3',\n",
       " 'topcode2: subcode3: subsubcode4',\n",
       " 'topcode2: subcode4',\n",
       " 'topcode3']"
      ]
     },
     "execution_count": 9,
     "metadata": {},
     "output_type": "execute_result"
    }
   ],
   "source": [
    "qualdocs.get_code_list(df)"
   ]
  },
  {
   "cell_type": "markdown",
   "metadata": {},
   "source": [
    "Get all top-level codes:"
   ]
  },
  {
   "cell_type": "code",
   "execution_count": 11,
   "metadata": {},
   "outputs": [
    {
     "data": {
      "text/plain": [
       "Index(['topcode1', 'topcode2', 'topcode3'], dtype='object', name='code')"
      ]
     },
     "execution_count": 11,
     "metadata": {},
     "output_type": "execute_result"
    }
   ],
   "source": [
    "df.index.get_level_values(0).unique()"
   ]
  },
  {
   "cell_type": "markdown",
   "metadata": {},
   "source": [
    "Get all subcodes:"
   ]
  },
  {
   "cell_type": "code",
   "execution_count": 12,
   "metadata": {},
   "outputs": [
    {
     "data": {
      "text/plain": [
       "Index(['', ' subcode1', ' subcode2', ' subcode3', ' subcode4'], dtype='object', name='subcode')"
      ]
     },
     "execution_count": 12,
     "metadata": {},
     "output_type": "execute_result"
    }
   ],
   "source": [
    "df.index.get_level_values(1).unique()"
   ]
  },
  {
   "cell_type": "markdown",
   "metadata": {},
   "source": [
    "Get all sub-subcodes:"
   ]
  },
  {
   "cell_type": "code",
   "execution_count": 13,
   "metadata": {},
   "outputs": [
    {
     "data": {
      "text/plain": [
       "Index(['', ' subsubcode1', ' subsubcode3', ' subsubcode4'], dtype='object', name='sub_subcode')"
      ]
     },
     "execution_count": 13,
     "metadata": {},
     "output_type": "execute_result"
    }
   ],
   "source": [
    "df.index.get_level_values(2).unique()"
   ]
  },
  {
   "cell_type": "markdown",
   "metadata": {},
   "source": [
    "Filter by a top-level code:"
   ]
  },
  {
   "cell_type": "code",
   "execution_count": 14,
   "metadata": {},
   "outputs": [
    {
     "data": {
      "text/html": [
       "<div>\n",
       "<table border=\"1\" class=\"dataframe\">\n",
       "  <thead>\n",
       "    <tr style=\"text-align: right;\">\n",
       "      <th></th>\n",
       "      <th></th>\n",
       "      <th></th>\n",
       "      <th></th>\n",
       "      <th>text</th>\n",
       "      <th>comment_id</th>\n",
       "      <th>coder</th>\n",
       "    </tr>\n",
       "    <tr>\n",
       "      <th>code</th>\n",
       "      <th>subcode</th>\n",
       "      <th>sub_subcode</th>\n",
       "      <th>name</th>\n",
       "      <th></th>\n",
       "      <th></th>\n",
       "      <th></th>\n",
       "    </tr>\n",
       "  </thead>\n",
       "  <tbody>\n",
       "    <tr>\n",
       "      <th rowspan=\"9\" valign=\"top\">topcode1</th>\n",
       "      <th></th>\n",
       "      <th></th>\n",
       "      <th>qualdocs test lorem 2</th>\n",
       "      <td>Sed convallis purus lorem, ut euismod lorem scelerisque at. Vestibulum est diam, convallis ac dictum id, sodales nec nisl. Maecenas malesuada neque vel enim vestibulum laoreet.</td>\n",
       "      <td>AAAAA-veBHo</td>\n",
       "      <td>R.Stuart Geiger</td>\n",
       "    </tr>\n",
       "    <tr>\n",
       "      <th rowspan=\"2\" valign=\"top\">subcode1</th>\n",
       "      <th rowspan=\"2\" valign=\"top\"></th>\n",
       "      <th>qualdocs-test-lorem</th>\n",
       "      <td>Nunc lacinia luctus mauris, vel malesuada lacus fermentum ullamcorper. Proin lacinia odio non tincidunt finibus.</td>\n",
       "      <td>AAAAA-y8kfE</td>\n",
       "      <td>R.Stuart Geiger</td>\n",
       "    </tr>\n",
       "    <tr>\n",
       "      <th>qualdocs-test-lorem</th>\n",
       "      <td>Vestibulum ac felis eget nisi iaculis condimentum. Morbi eros ligula, posuere id enim eu, dictum scelerisque magna.</td>\n",
       "      <td>AAAAA-y8ke8</td>\n",
       "      <td>R.Stuart Geiger</td>\n",
       "    </tr>\n",
       "    <tr>\n",
       "      <th rowspan=\"3\" valign=\"top\">subcode2</th>\n",
       "      <th rowspan=\"3\" valign=\"top\"></th>\n",
       "      <th>qualdocs-test-lorem</th>\n",
       "      <td>Lorem ipsum dolor sit amet, consectetur adipiscing elit. In enim sapien, fringilla vel sodales sed, tincidunt ut odio. Pellentesque habitant morbi tristique senectus et netus et malesuada fames ac turpis egestas.</td>\n",
       "      <td>AAAAA-rM2bI</td>\n",
       "      <td>R.Stuart Geiger</td>\n",
       "    </tr>\n",
       "    <tr>\n",
       "      <th>qualdocs-test-lorem</th>\n",
       "      <td>Duis a erat sodales, laoreet est vel, consequat libero. Donec nisl erat, venenatis sit amet lacinia sit amet, finibus in nulla.</td>\n",
       "      <td>AAAAA-y8kfI</td>\n",
       "      <td>R.Stuart Geiger</td>\n",
       "    </tr>\n",
       "    <tr>\n",
       "      <th>qualdocs-test-lorem</th>\n",
       "      <td>Nunc lacinia luctus mauris, vel malesuada lacus fermentum ullamcorper. Proin lacinia odio non tincidunt finibus.</td>\n",
       "      <td>AAAAA-y8kfE</td>\n",
       "      <td>R.Stuart Geiger</td>\n",
       "    </tr>\n",
       "    <tr>\n",
       "      <th>subcode3</th>\n",
       "      <th></th>\n",
       "      <th>qualdocs test lorem 2</th>\n",
       "      <td>Lorem ipsum dolor sit amet</td>\n",
       "      <td>AAAAA-veBH0</td>\n",
       "      <td>R.Stuart Geiger</td>\n",
       "    </tr>\n",
       "    <tr>\n",
       "      <th rowspan=\"2\" valign=\"top\">subcode4</th>\n",
       "      <th rowspan=\"2\" valign=\"top\"></th>\n",
       "      <th>qualdocs test lorem 2</th>\n",
       "      <td>Lorem ipsum dolor sit amet</td>\n",
       "      <td>AAAAA-veBH0</td>\n",
       "      <td>R.Stuart Geiger</td>\n",
       "    </tr>\n",
       "    <tr>\n",
       "      <th>qualdocs-test-lorem</th>\n",
       "      <td>Etiam ultrices sed risus id fermentum. Etiam placerat, mi id ultricies accumsan, arcu erat ornare tortor, sed gravida nisi eros eget ligula. Quisque sed libero pellentesque lorem varius egestas. Nam facilisis lacinia consequat. Aliquam porttitor ipsum non eros blandit commodo. Donec at elit ac sapien pellentesque accumsan. Nam hendrerit eget leo eget gravida. Fusce et dui luctus, malesuada elit sed, interdum nulla. Praesent ac venenatis mi. Maecenas suscipit metus in ipsum molestie, et elementum tortor mattis. Aenean at mattis lorem. Aenean at lacinia quam.</td>\n",
       "      <td>AAAAA-y8kfU</td>\n",
       "      <td>R.Stuart Geiger</td>\n",
       "    </tr>\n",
       "  </tbody>\n",
       "</table>\n",
       "</div>"
      ],
      "text/plain": [
       "                                                                                                                                                                                                                                                                                                                                                                                                                                                                                                                                                                                                                                     text  \\\n",
       "code     subcode   sub_subcode name                                                                                                                                                                                                                                                                                                                                                                                                                                                                                                                                                                                                         \n",
       "topcode1                       qualdocs test lorem 2  Sed convallis purus lorem, ut euismod lorem scelerisque at. Vestibulum est diam, convallis ac dictum id, sodales nec nisl. Maecenas malesuada neque vel enim vestibulum laoreet.                                                                                                                                                                                                                                                                                                                                                                                                      \n",
       "          subcode1             qualdocs-test-lorem    Nunc lacinia luctus mauris, vel malesuada lacus fermentum ullamcorper. Proin lacinia odio non tincidunt finibus.                                                                                                                                                                                                                                                                                                                                                                                                                                                                      \n",
       "                               qualdocs-test-lorem    Vestibulum ac felis eget nisi iaculis condimentum. Morbi eros ligula, posuere id enim eu, dictum scelerisque magna.                                                                                                                                                                                                                                                                                                                                                                                                                                                                   \n",
       "          subcode2             qualdocs-test-lorem    Lorem ipsum dolor sit amet, consectetur adipiscing elit. In enim sapien, fringilla vel sodales sed, tincidunt ut odio. Pellentesque habitant morbi tristique senectus et netus et malesuada fames ac turpis egestas.                                                                                                                                                                                                                                                                                                                                                                  \n",
       "                               qualdocs-test-lorem    Duis a erat sodales, laoreet est vel, consequat libero. Donec nisl erat, venenatis sit amet lacinia sit amet, finibus in nulla.                                                                                                                                                                                                                                                                                                                                                                                                                                                       \n",
       "                               qualdocs-test-lorem    Nunc lacinia luctus mauris, vel malesuada lacus fermentum ullamcorper. Proin lacinia odio non tincidunt finibus.                                                                                                                                                                                                                                                                                                                                                                                                                                                                      \n",
       "          subcode3             qualdocs test lorem 2  Lorem ipsum dolor sit amet                                                                                                                                                                                                                                                                                                                                                                                                                                                                                                                                                            \n",
       "          subcode4             qualdocs test lorem 2  Lorem ipsum dolor sit amet                                                                                                                                                                                                                                                                                                                                                                                                                                                                                                                                                            \n",
       "                               qualdocs-test-lorem    Etiam ultrices sed risus id fermentum. Etiam placerat, mi id ultricies accumsan, arcu erat ornare tortor, sed gravida nisi eros eget ligula. Quisque sed libero pellentesque lorem varius egestas. Nam facilisis lacinia consequat. Aliquam porttitor ipsum non eros blandit commodo. Donec at elit ac sapien pellentesque accumsan. Nam hendrerit eget leo eget gravida. Fusce et dui luctus, malesuada elit sed, interdum nulla. Praesent ac venenatis mi. Maecenas suscipit metus in ipsum molestie, et elementum tortor mattis. Aenean at mattis lorem. Aenean at lacinia quam.   \n",
       "\n",
       "                                                       comment_id  \\\n",
       "code     subcode   sub_subcode name                                 \n",
       "topcode1                       qualdocs test lorem 2  AAAAA-veBHo   \n",
       "          subcode1             qualdocs-test-lorem    AAAAA-y8kfE   \n",
       "                               qualdocs-test-lorem    AAAAA-y8ke8   \n",
       "          subcode2             qualdocs-test-lorem    AAAAA-rM2bI   \n",
       "                               qualdocs-test-lorem    AAAAA-y8kfI   \n",
       "                               qualdocs-test-lorem    AAAAA-y8kfE   \n",
       "          subcode3             qualdocs test lorem 2  AAAAA-veBH0   \n",
       "          subcode4             qualdocs test lorem 2  AAAAA-veBH0   \n",
       "                               qualdocs-test-lorem    AAAAA-y8kfU   \n",
       "\n",
       "                                                                coder  \n",
       "code     subcode   sub_subcode name                                    \n",
       "topcode1                       qualdocs test lorem 2  R.Stuart Geiger  \n",
       "          subcode1             qualdocs-test-lorem    R.Stuart Geiger  \n",
       "                               qualdocs-test-lorem    R.Stuart Geiger  \n",
       "          subcode2             qualdocs-test-lorem    R.Stuart Geiger  \n",
       "                               qualdocs-test-lorem    R.Stuart Geiger  \n",
       "                               qualdocs-test-lorem    R.Stuart Geiger  \n",
       "          subcode3             qualdocs test lorem 2  R.Stuart Geiger  \n",
       "          subcode4             qualdocs test lorem 2  R.Stuart Geiger  \n",
       "                               qualdocs-test-lorem    R.Stuart Geiger  "
      ]
     },
     "execution_count": 14,
     "metadata": {},
     "output_type": "execute_result"
    }
   ],
   "source": [
    "df.xs('topcode1', level='code', drop_level=False)"
   ]
  },
  {
   "cell_type": "code",
   "execution_count": null,
   "metadata": {
    "collapsed": true
   },
   "outputs": [],
   "source": []
  }
 ],
 "metadata": {
  "kernelspec": {
   "display_name": "Python 3",
   "language": "python",
   "name": "python3"
  },
  "language_info": {
   "codemirror_mode": {
    "name": "ipython",
    "version": 3
   },
   "file_extension": ".py",
   "mimetype": "text/x-python",
   "name": "python",
   "nbconvert_exporter": "python",
   "pygments_lexer": "ipython3",
   "version": "3.6.1"
  }
 },
 "nbformat": 4,
 "nbformat_minor": 2
}
